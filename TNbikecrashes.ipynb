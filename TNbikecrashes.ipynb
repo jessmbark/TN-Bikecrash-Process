{
 "cells": [
  {
   "cell_type": "code",
   "execution_count": 1,
   "id": "f7931e3b-ae02-4dbb-81fb-14739f3566a1",
   "metadata": {},
   "outputs": [],
   "source": [
    "import pdfplumber\n",
    "import pandas as pd"
   ]
  },
  {
   "cell_type": "code",
   "execution_count": 2,
   "id": "033f9660-a03c-4eab-95bd-1131506baf71",
   "metadata": {
    "scrolled": true
   },
   "outputs": [],
   "source": [
    "#Shoutout to TA Manyun Zou for helping me pull the data from the whole PDF and not the first page!\n",
    "page_list = []\n",
    "with pdfplumber.open(\"UpdatedTNbikecrashes.pdf\") as pdf:\n",
    "    for i in range(len(pdf.pages)):\n",
    "        tables = pdf.pages[i].extract_table(table_settings={})\n",
    "        page_list.append(tables)\n",
    "page_dfs = []\n",
    "for i in range(len(page_list)):\n",
    "    page_df = pd.DataFrame(page_list[i][1:], columns=page_list[i][0])\n",
    "    page_dfs.append(page_df)\n",
    "crashes = pd.concat(page_dfs)"
   ]
  },
  {
   "cell_type": "code",
   "execution_count": 3,
   "id": "da63ae91-2743-404f-84d6-afd9a4841cb1",
   "metadata": {},
   "outputs": [],
   "source": [
    "#None is actually county name + total, so going to rename to county and pull the totals out of this df\n",
    "crashes.rename(columns={None :'County'}, inplace=True)"
   ]
  },
  {
   "cell_type": "code",
   "execution_count": 4,
   "id": "040c77a9-7599-4947-820d-3764e48324cd",
   "metadata": {},
   "outputs": [],
   "source": [
    "#I'll probably want to plot these as lines\n",
    "#I think I want to try out Flourish\n",
    "yeartotals=crashes[crashes['County'].str.contains('Total')]"
   ]
  },
  {
   "cell_type": "code",
   "execution_count": 5,
   "id": "2ac3d8de-fe24-47ed-93ff-1f5460d23bc5",
   "metadata": {},
   "outputs": [
    {
     "name": "stderr",
     "output_type": "stream",
     "text": [
      "/var/folders/8p/jtfjt77s31b6lpddmdmjcpbc0000gn/T/ipykernel_95399/74844071.py:2: SettingWithCopyWarning: \n",
      "A value is trying to be set on a copy of a slice from a DataFrame.\n",
      "Try using .loc[row_indexer,col_indexer] = value instead\n",
      "\n",
      "See the caveats in the documentation: https://pandas.pydata.org/pandas-docs/stable/user_guide/indexing.html#returning-a-view-versus-a-copy\n",
      "  yeartotals['County']=yeartotals['County'].str.split(\" \").str.get(1)\n"
     ]
    }
   ],
   "source": [
    "#The county column no longer represents counties, so I should clean and rename it to be the Year\n",
    "yeartotals['County']=yeartotals['County'].str.split(\" \").str.get(1)"
   ]
  },
  {
   "cell_type": "code",
   "execution_count": 6,
   "id": "b28ba7a6-7511-4c5c-94d1-bf74b188262b",
   "metadata": {},
   "outputs": [
    {
     "name": "stderr",
     "output_type": "stream",
     "text": [
      "/var/folders/8p/jtfjt77s31b6lpddmdmjcpbc0000gn/T/ipykernel_95399/2830668891.py:1: SettingWithCopyWarning: \n",
      "A value is trying to be set on a copy of a slice from a DataFrame\n",
      "\n",
      "See the caveats in the documentation: https://pandas.pydata.org/pandas-docs/stable/user_guide/indexing.html#returning-a-view-versus-a-copy\n",
      "  yeartotals.rename(columns={'County':'Year'},inplace=True)\n"
     ]
    }
   ],
   "source": [
    "yeartotals.rename(columns={'County':'Year'},inplace=True)"
   ]
  },
  {
   "cell_type": "code",
   "execution_count": 8,
   "id": "1fc7f933-b636-47bf-9099-fee743975051",
   "metadata": {},
   "outputs": [
    {
     "name": "stderr",
     "output_type": "stream",
     "text": [
      "/var/folders/8p/jtfjt77s31b6lpddmdmjcpbc0000gn/T/ipykernel_95399/2487937331.py:2: SettingWithCopyWarning: \n",
      "A value is trying to be set on a copy of a slice from a DataFrame.\n",
      "Try using .loc[row_indexer,col_indexer] = value instead\n",
      "\n",
      "See the caveats in the documentation: https://pandas.pydata.org/pandas-docs/stable/user_guide/indexing.html#returning-a-view-versus-a-copy\n",
      "  yeartotals['Total']=yeartotals['Total'].astype(int)\n"
     ]
    }
   ],
   "source": [
    "#In case I want to do more analysis with this, going to change columns from strings to integers\n",
    "yeartotals['Total']=yeartotals['Total'].astype(int)"
   ]
  },
  {
   "cell_type": "code",
   "execution_count": 9,
   "id": "b315d459-4b3f-4647-916f-8399b0db72b9",
   "metadata": {},
   "outputs": [
    {
     "name": "stderr",
     "output_type": "stream",
     "text": [
      "/var/folders/8p/jtfjt77s31b6lpddmdmjcpbc0000gn/T/ipykernel_95399/1725895816.py:1: SettingWithCopyWarning: \n",
      "A value is trying to be set on a copy of a slice from a DataFrame.\n",
      "Try using .loc[row_indexer,col_indexer] = value instead\n",
      "\n",
      "See the caveats in the documentation: https://pandas.pydata.org/pandas-docs/stable/user_guide/indexing.html#returning-a-view-versus-a-copy\n",
      "  yeartotals['Fatal']=yeartotals['Fatal'].astype(int)\n"
     ]
    }
   ],
   "source": [
    "yeartotals['Fatal']=yeartotals['Fatal'].astype(int)"
   ]
  },
  {
   "cell_type": "code",
   "execution_count": 10,
   "id": "d7278d43-2fcc-46e9-a58c-50baf7c129e6",
   "metadata": {},
   "outputs": [
    {
     "name": "stderr",
     "output_type": "stream",
     "text": [
      "/var/folders/8p/jtfjt77s31b6lpddmdmjcpbc0000gn/T/ipykernel_95399/229759741.py:1: SettingWithCopyWarning: \n",
      "A value is trying to be set on a copy of a slice from a DataFrame.\n",
      "Try using .loc[row_indexer,col_indexer] = value instead\n",
      "\n",
      "See the caveats in the documentation: https://pandas.pydata.org/pandas-docs/stable/user_guide/indexing.html#returning-a-view-versus-a-copy\n",
      "  yeartotals['Injury']=yeartotals['Injury'].astype(int)\n"
     ]
    }
   ],
   "source": [
    "yeartotals['Injury']=yeartotals['Injury'].astype(int)"
   ]
  },
  {
   "cell_type": "code",
   "execution_count": 11,
   "id": "16735941-116e-4544-a040-6be6a106b2ec",
   "metadata": {},
   "outputs": [
    {
     "name": "stderr",
     "output_type": "stream",
     "text": [
      "/var/folders/8p/jtfjt77s31b6lpddmdmjcpbc0000gn/T/ipykernel_95399/242097355.py:1: SettingWithCopyWarning: \n",
      "A value is trying to be set on a copy of a slice from a DataFrame.\n",
      "Try using .loc[row_indexer,col_indexer] = value instead\n",
      "\n",
      "See the caveats in the documentation: https://pandas.pydata.org/pandas-docs/stable/user_guide/indexing.html#returning-a-view-versus-a-copy\n",
      "  yeartotals['PDO']=yeartotals['PDO'].astype(int)\n"
     ]
    }
   ],
   "source": [
    "yeartotals['PDO']=yeartotals['PDO'].astype(int)"
   ]
  },
  {
   "cell_type": "code",
   "execution_count": 12,
   "id": "d67dac4e-f544-49c8-b6d2-d08645e9db4a",
   "metadata": {},
   "outputs": [
    {
     "name": "stderr",
     "output_type": "stream",
     "text": [
      "/var/folders/8p/jtfjt77s31b6lpddmdmjcpbc0000gn/T/ipykernel_95399/903034137.py:1: SettingWithCopyWarning: \n",
      "A value is trying to be set on a copy of a slice from a DataFrame.\n",
      "Try using .loc[row_indexer,col_indexer] = value instead\n",
      "\n",
      "See the caveats in the documentation: https://pandas.pydata.org/pandas-docs/stable/user_guide/indexing.html#returning-a-view-versus-a-copy\n",
      "  yeartotals['Year']=yeartotals['Year'].astype(int)\n"
     ]
    }
   ],
   "source": [
    "yeartotals['Year']=yeartotals['Year'].astype(int)"
   ]
  },
  {
   "cell_type": "code",
   "execution_count": 13,
   "id": "2450cf89-b679-4215-9c6f-ef89469ee170",
   "metadata": {},
   "outputs": [
    {
     "name": "stderr",
     "output_type": "stream",
     "text": [
      "/var/folders/8p/jtfjt77s31b6lpddmdmjcpbc0000gn/T/ipykernel_95399/562799049.py:1: SettingWithCopyWarning: \n",
      "A value is trying to be set on a copy of a slice from a DataFrame.\n",
      "Try using .loc[row_indexer,col_indexer] = value instead\n",
      "\n",
      "See the caveats in the documentation: https://pandas.pydata.org/pandas-docs/stable/user_guide/indexing.html#returning-a-view-versus-a-copy\n",
      "  yeartotals['PercentInjury']=((yeartotals['Injury']/yeartotals['Total']*100))\n"
     ]
    }
   ],
   "source": [
    "yeartotals['PercentInjury']=((yeartotals['Injury']/yeartotals['Total']*100))"
   ]
  },
  {
   "cell_type": "code",
   "execution_count": 14,
   "id": "05f07cfc-3a1f-4da8-8314-db6e02220ad2",
   "metadata": {},
   "outputs": [
    {
     "data": {
      "text/plain": [
       "83.72093023255815"
      ]
     },
     "execution_count": 14,
     "metadata": {},
     "output_type": "execute_result"
    }
   ],
   "source": [
    "yeartotals['PercentInjury'].min()"
   ]
  },
  {
   "cell_type": "code",
   "execution_count": 15,
   "id": "4fb647ea-834e-407d-849f-fb0068c1abc6",
   "metadata": {},
   "outputs": [
    {
     "data": {
      "text/plain": [
       "92.7027027027027"
      ]
     },
     "execution_count": 15,
     "metadata": {},
     "output_type": "execute_result"
    }
   ],
   "source": [
    "yeartotals['PercentInjury'].max()"
   ]
  },
  {
   "cell_type": "code",
   "execution_count": 16,
   "id": "836215d1-65e4-41bf-989a-2ce2519cea9c",
   "metadata": {},
   "outputs": [
    {
     "data": {
      "text/plain": [
       "5809"
      ]
     },
     "execution_count": 16,
     "metadata": {},
     "output_type": "execute_result"
    }
   ],
   "source": [
    "#How many crashes have there been over the past 15 years?\n",
    "#2024 has 73\n",
    "yeartotals['Total'].sum()"
   ]
  },
  {
   "cell_type": "code",
   "execution_count": 17,
   "id": "6c848a8b-b57e-4e7a-8722-b1e8e22712d8",
   "metadata": {},
   "outputs": [
    {
     "data": {
      "text/plain": [
       "407.0"
      ]
     },
     "execution_count": 17,
     "metadata": {},
     "output_type": "execute_result"
    }
   ],
   "source": [
    "#How many crashes per average year?\n",
    "yeartotals['Total'].median()"
   ]
  },
  {
   "cell_type": "code",
   "execution_count": 18,
   "id": "a7e7f043-e942-4eed-9962-d65c7883b6bc",
   "metadata": {},
   "outputs": [
    {
     "data": {
      "text/plain": [
       "8.0"
      ]
     },
     "execution_count": 18,
     "metadata": {},
     "output_type": "execute_result"
    }
   ],
   "source": [
    "#Fatal crashes per average year?\n",
    "yeartotals['Fatal'].median()"
   ]
  },
  {
   "cell_type": "code",
   "execution_count": 19,
   "id": "5f129824-9b41-4979-901a-406c4792df85",
   "metadata": {},
   "outputs": [
    {
     "data": {
      "text/plain": [
       "117"
      ]
     },
     "execution_count": 19,
     "metadata": {},
     "output_type": "execute_result"
    }
   ],
   "source": [
    "#What about fatal totals?\n",
    "yeartotals['Fatal'].sum()"
   ]
  },
  {
   "cell_type": "code",
   "execution_count": 24,
   "id": "dc22fc46-45f7-4d99-af59-7de99212b629",
   "metadata": {},
   "outputs": [],
   "source": [
    "yeartotals.to_csv('tnbikecrashtotalsclean.csv',index=False)"
   ]
  }
 ],
 "metadata": {
  "kernelspec": {
   "display_name": "Python 3 (ipykernel)",
   "language": "python",
   "name": "python3"
  },
  "language_info": {
   "codemirror_mode": {
    "name": "ipython",
    "version": 3
   },
   "file_extension": ".py",
   "mimetype": "text/x-python",
   "name": "python",
   "nbconvert_exporter": "python",
   "pygments_lexer": "ipython3",
   "version": "3.11.8"
  }
 },
 "nbformat": 4,
 "nbformat_minor": 5
}
