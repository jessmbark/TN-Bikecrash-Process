{
 "cells": [
  {
   "cell_type": "code",
   "execution_count": 1,
   "id": "f7931e3b-ae02-4dbb-81fb-14739f3566a1",
   "metadata": {},
   "outputs": [],
   "source": [
    "import pdfplumber\n",
    "import pandas as pd"
   ]
  },
  {
   "cell_type": "code",
   "execution_count": 2,
   "id": "033f9660-a03c-4eab-95bd-1131506baf71",
   "metadata": {
    "scrolled": true
   },
   "outputs": [],
   "source": [
    "#Shoutout to TA Manyun Zou for helping me pull the data from the whole PDF and not the first page!\n",
    "page_list = []\n",
    "with pdfplumber.open(\"UpdatedTNbikecrashes.pdf\") as pdf:\n",
    "    for i in range(len(pdf.pages)):\n",
    "        tables = pdf.pages[i].extract_table(table_settings={})\n",
    "        page_list.append(tables)\n",
    "page_dfs = []\n",
    "for i in range(len(page_list)):\n",
    "    page_df = pd.DataFrame(page_list[i][1:], columns=page_list[i][0])\n",
    "    page_dfs.append(page_df)\n",
    "crashes = pd.concat(page_dfs)"
   ]
  },
  {
   "cell_type": "code",
   "execution_count": 3,
   "id": "da63ae91-2743-404f-84d6-afd9a4841cb1",
   "metadata": {},
   "outputs": [],
   "source": [
    "#None is actually county name + total, so going to rename to county and pull the totals out of this df\n",
    "crashes.rename(columns={None :'County'}, inplace=True)"
   ]
  },
  {
   "cell_type": "code",
   "execution_count": 4,
   "id": "040c77a9-7599-4947-820d-3764e48324cd",
   "metadata": {},
   "outputs": [],
   "source": [
    "#I'll probably want to plot these as lines\n",
    "#I think I want to try out Flourish\n",
    "yeartotals=crashes[crashes['County'].str.contains('Total')]"
   ]
  },
  {
   "cell_type": "code",
   "execution_count": 5,
   "id": "2ac3d8de-fe24-47ed-93ff-1f5460d23bc5",
   "metadata": {},
   "outputs": [
    {
     "name": "stderr",
     "output_type": "stream",
     "text": [
      "/var/folders/8p/jtfjt77s31b6lpddmdmjcpbc0000gn/T/ipykernel_70610/74844071.py:2: SettingWithCopyWarning: \n",
      "A value is trying to be set on a copy of a slice from a DataFrame.\n",
      "Try using .loc[row_indexer,col_indexer] = value instead\n",
      "\n",
      "See the caveats in the documentation: https://pandas.pydata.org/pandas-docs/stable/user_guide/indexing.html#returning-a-view-versus-a-copy\n",
      "  yeartotals['County']=yeartotals['County'].str.split(\" \").str.get(1)\n"
     ]
    }
   ],
   "source": [
    "#The county column no longer represents counties, so I should clean and rename it to be the Year\n",
    "yeartotals['County']=yeartotals['County'].str.split(\" \").str.get(1)"
   ]
  },
  {
   "cell_type": "code",
   "execution_count": 6,
   "id": "b28ba7a6-7511-4c5c-94d1-bf74b188262b",
   "metadata": {},
   "outputs": [
    {
     "name": "stderr",
     "output_type": "stream",
     "text": [
      "/var/folders/8p/jtfjt77s31b6lpddmdmjcpbc0000gn/T/ipykernel_70610/2830668891.py:1: SettingWithCopyWarning: \n",
      "A value is trying to be set on a copy of a slice from a DataFrame\n",
      "\n",
      "See the caveats in the documentation: https://pandas.pydata.org/pandas-docs/stable/user_guide/indexing.html#returning-a-view-versus-a-copy\n",
      "  yeartotals.rename(columns={'County':'Year'},inplace=True)\n"
     ]
    }
   ],
   "source": [
    "yeartotals.rename(columns={'County':'Year'},inplace=True)"
   ]
  },
  {
   "cell_type": "code",
   "execution_count": 7,
   "id": "38a80d9f-ffeb-478f-89c0-1928d88a07d7",
   "metadata": {},
   "outputs": [],
   "source": [
    "#I need to take the totals data out of the county data in case I want to do something with it\n",
    "countycrashes = crashes[~crashes['County'].str.contains('Total')]"
   ]
  },
  {
   "cell_type": "code",
   "execution_count": 8,
   "id": "1fc7f933-b636-47bf-9099-fee743975051",
   "metadata": {},
   "outputs": [
    {
     "name": "stderr",
     "output_type": "stream",
     "text": [
      "/var/folders/8p/jtfjt77s31b6lpddmdmjcpbc0000gn/T/ipykernel_70610/2487937331.py:2: SettingWithCopyWarning: \n",
      "A value is trying to be set on a copy of a slice from a DataFrame.\n",
      "Try using .loc[row_indexer,col_indexer] = value instead\n",
      "\n",
      "See the caveats in the documentation: https://pandas.pydata.org/pandas-docs/stable/user_guide/indexing.html#returning-a-view-versus-a-copy\n",
      "  yeartotals['Total']=yeartotals['Total'].astype(int)\n"
     ]
    }
   ],
   "source": [
    "#In case I want to do more analysis with this, going to change columns from strings to integers\n",
    "yeartotals['Total']=yeartotals['Total'].astype(int)"
   ]
  },
  {
   "cell_type": "code",
   "execution_count": 9,
   "id": "b315d459-4b3f-4647-916f-8399b0db72b9",
   "metadata": {},
   "outputs": [
    {
     "name": "stderr",
     "output_type": "stream",
     "text": [
      "/var/folders/8p/jtfjt77s31b6lpddmdmjcpbc0000gn/T/ipykernel_70610/1725895816.py:1: SettingWithCopyWarning: \n",
      "A value is trying to be set on a copy of a slice from a DataFrame.\n",
      "Try using .loc[row_indexer,col_indexer] = value instead\n",
      "\n",
      "See the caveats in the documentation: https://pandas.pydata.org/pandas-docs/stable/user_guide/indexing.html#returning-a-view-versus-a-copy\n",
      "  yeartotals['Fatal']=yeartotals['Fatal'].astype(int)\n"
     ]
    }
   ],
   "source": [
    "yeartotals['Fatal']=yeartotals['Fatal'].astype(int)"
   ]
  },
  {
   "cell_type": "code",
   "execution_count": 10,
   "id": "d7278d43-2fcc-46e9-a58c-50baf7c129e6",
   "metadata": {},
   "outputs": [
    {
     "name": "stderr",
     "output_type": "stream",
     "text": [
      "/var/folders/8p/jtfjt77s31b6lpddmdmjcpbc0000gn/T/ipykernel_70610/229759741.py:1: SettingWithCopyWarning: \n",
      "A value is trying to be set on a copy of a slice from a DataFrame.\n",
      "Try using .loc[row_indexer,col_indexer] = value instead\n",
      "\n",
      "See the caveats in the documentation: https://pandas.pydata.org/pandas-docs/stable/user_guide/indexing.html#returning-a-view-versus-a-copy\n",
      "  yeartotals['Injury']=yeartotals['Injury'].astype(int)\n"
     ]
    }
   ],
   "source": [
    "yeartotals['Injury']=yeartotals['Injury'].astype(int)"
   ]
  },
  {
   "cell_type": "code",
   "execution_count": 11,
   "id": "16735941-116e-4544-a040-6be6a106b2ec",
   "metadata": {},
   "outputs": [
    {
     "name": "stderr",
     "output_type": "stream",
     "text": [
      "/var/folders/8p/jtfjt77s31b6lpddmdmjcpbc0000gn/T/ipykernel_70610/242097355.py:1: SettingWithCopyWarning: \n",
      "A value is trying to be set on a copy of a slice from a DataFrame.\n",
      "Try using .loc[row_indexer,col_indexer] = value instead\n",
      "\n",
      "See the caveats in the documentation: https://pandas.pydata.org/pandas-docs/stable/user_guide/indexing.html#returning-a-view-versus-a-copy\n",
      "  yeartotals['PDO']=yeartotals['PDO'].astype(int)\n"
     ]
    }
   ],
   "source": [
    "yeartotals['PDO']=yeartotals['PDO'].astype(int)"
   ]
  },
  {
   "cell_type": "code",
   "execution_count": 12,
   "id": "d67dac4e-f544-49c8-b6d2-d08645e9db4a",
   "metadata": {},
   "outputs": [
    {
     "name": "stderr",
     "output_type": "stream",
     "text": [
      "/var/folders/8p/jtfjt77s31b6lpddmdmjcpbc0000gn/T/ipykernel_70610/903034137.py:1: SettingWithCopyWarning: \n",
      "A value is trying to be set on a copy of a slice from a DataFrame.\n",
      "Try using .loc[row_indexer,col_indexer] = value instead\n",
      "\n",
      "See the caveats in the documentation: https://pandas.pydata.org/pandas-docs/stable/user_guide/indexing.html#returning-a-view-versus-a-copy\n",
      "  yeartotals['Year']=yeartotals['Year'].astype(int)\n"
     ]
    }
   ],
   "source": [
    "yeartotals['Year']=yeartotals['Year'].astype(int)"
   ]
  },
  {
   "cell_type": "code",
   "execution_count": 13,
   "id": "9a58c42a-d23d-45cc-8a3c-c96eb1d22e9a",
   "metadata": {},
   "outputs": [
    {
     "data": {
      "text/plain": [
       "'98'"
      ]
     },
     "execution_count": 13,
     "metadata": {},
     "output_type": "execute_result"
    }
   ],
   "source": [
    "#Which county saw the most crashes?\n",
    "countycrashes['Total'].max()"
   ]
  },
  {
   "cell_type": "code",
   "execution_count": 14,
   "id": "1bcb859d-3c75-4397-93ae-9ee48642b199",
   "metadata": {},
   "outputs": [
    {
     "name": "stderr",
     "output_type": "stream",
     "text": [
      "/var/folders/8p/jtfjt77s31b6lpddmdmjcpbc0000gn/T/ipykernel_70610/2584386201.py:2: SettingWithCopyWarning: \n",
      "A value is trying to be set on a copy of a slice from a DataFrame.\n",
      "Try using .loc[row_indexer,col_indexer] = value instead\n",
      "\n",
      "See the caveats in the documentation: https://pandas.pydata.org/pandas-docs/stable/user_guide/indexing.html#returning-a-view-versus-a-copy\n",
      "  countycrashes['Fatal']=countycrashes['Fatal'].astype(int)\n"
     ]
    }
   ],
   "source": [
    "#I think this got imported as a string, so going to change\n",
    "countycrashes['Fatal']=countycrashes['Fatal'].astype(int)"
   ]
  },
  {
   "cell_type": "code",
   "execution_count": 15,
   "id": "b8098f88-5b47-4a2d-a12d-c4865018656e",
   "metadata": {},
   "outputs": [
    {
     "name": "stderr",
     "output_type": "stream",
     "text": [
      "/var/folders/8p/jtfjt77s31b6lpddmdmjcpbc0000gn/T/ipykernel_70610/581447954.py:1: SettingWithCopyWarning: \n",
      "A value is trying to be set on a copy of a slice from a DataFrame.\n",
      "Try using .loc[row_indexer,col_indexer] = value instead\n",
      "\n",
      "See the caveats in the documentation: https://pandas.pydata.org/pandas-docs/stable/user_guide/indexing.html#returning-a-view-versus-a-copy\n",
      "  countycrashes['Injury']=countycrashes['Injury'].astype(int)\n"
     ]
    }
   ],
   "source": [
    "countycrashes['Injury']=countycrashes['Injury'].astype(int)"
   ]
  },
  {
   "cell_type": "code",
   "execution_count": 16,
   "id": "19f610ba-1b42-4155-a964-c28201f2bad7",
   "metadata": {},
   "outputs": [
    {
     "name": "stderr",
     "output_type": "stream",
     "text": [
      "/var/folders/8p/jtfjt77s31b6lpddmdmjcpbc0000gn/T/ipykernel_70610/2487396903.py:1: SettingWithCopyWarning: \n",
      "A value is trying to be set on a copy of a slice from a DataFrame.\n",
      "Try using .loc[row_indexer,col_indexer] = value instead\n",
      "\n",
      "See the caveats in the documentation: https://pandas.pydata.org/pandas-docs/stable/user_guide/indexing.html#returning-a-view-versus-a-copy\n",
      "  countycrashes['PDO']=countycrashes['PDO'].astype(int)\n"
     ]
    }
   ],
   "source": [
    "countycrashes['PDO']=countycrashes['PDO'].astype(int)"
   ]
  },
  {
   "cell_type": "code",
   "execution_count": 17,
   "id": "a60d3526-b44d-4365-ac22-effc529c4922",
   "metadata": {},
   "outputs": [
    {
     "name": "stderr",
     "output_type": "stream",
     "text": [
      "/var/folders/8p/jtfjt77s31b6lpddmdmjcpbc0000gn/T/ipykernel_70610/616467551.py:1: SettingWithCopyWarning: \n",
      "A value is trying to be set on a copy of a slice from a DataFrame.\n",
      "Try using .loc[row_indexer,col_indexer] = value instead\n",
      "\n",
      "See the caveats in the documentation: https://pandas.pydata.org/pandas-docs/stable/user_guide/indexing.html#returning-a-view-versus-a-copy\n",
      "  countycrashes['Total']=countycrashes['Total'].astype(int)\n"
     ]
    }
   ],
   "source": [
    "countycrashes['Total']=countycrashes['Total'].astype(int)"
   ]
  },
  {
   "cell_type": "code",
   "execution_count": 18,
   "id": "2101938c-43f2-4093-91f7-97b930126857",
   "metadata": {},
   "outputs": [
    {
     "data": {
      "text/plain": [
       "108"
      ]
     },
     "execution_count": 18,
     "metadata": {},
     "output_type": "execute_result"
    }
   ],
   "source": [
    "#Which county has the most crashes?\n",
    "countycrashes['Total'].max()"
   ]
  },
  {
   "cell_type": "code",
   "execution_count": 19,
   "id": "b9f58398-0e55-42f0-924b-d524c2cc23d7",
   "metadata": {},
   "outputs": [
    {
     "data": {
      "text/html": [
       "<div>\n",
       "<style scoped>\n",
       "    .dataframe tbody tr th:only-of-type {\n",
       "        vertical-align: middle;\n",
       "    }\n",
       "\n",
       "    .dataframe tbody tr th {\n",
       "        vertical-align: top;\n",
       "    }\n",
       "\n",
       "    .dataframe thead th {\n",
       "        text-align: right;\n",
       "    }\n",
       "</style>\n",
       "<table border=\"1\" class=\"dataframe\">\n",
       "  <thead>\n",
       "    <tr style=\"text-align: right;\">\n",
       "      <th></th>\n",
       "      <th>County</th>\n",
       "      <th>Fatal</th>\n",
       "      <th>Injury</th>\n",
       "      <th>PDO</th>\n",
       "      <th>Total</th>\n",
       "    </tr>\n",
       "  </thead>\n",
       "  <tbody>\n",
       "    <tr>\n",
       "      <th>18</th>\n",
       "      <td>Shelby</td>\n",
       "      <td>1</td>\n",
       "      <td>96</td>\n",
       "      <td>11</td>\n",
       "      <td>108</td>\n",
       "    </tr>\n",
       "    <tr>\n",
       "      <th>14</th>\n",
       "      <td>Shelby</td>\n",
       "      <td>0</td>\n",
       "      <td>100</td>\n",
       "      <td>8</td>\n",
       "      <td>108</td>\n",
       "    </tr>\n",
       "  </tbody>\n",
       "</table>\n",
       "</div>"
      ],
      "text/plain": [
       "    County  Fatal  Injury  PDO  Total\n",
       "18  Shelby      1      96   11    108\n",
       "14  Shelby      0     100    8    108"
      ]
     },
     "execution_count": 19,
     "metadata": {},
     "output_type": "execute_result"
    }
   ],
   "source": [
    "countycrashes[countycrashes['Total']==108]"
   ]
  },
  {
   "cell_type": "code",
   "execution_count": 20,
   "id": "52f1984a-92bb-4f8f-a4f8-a2f9a3312877",
   "metadata": {},
   "outputs": [
    {
     "data": {
      "text/plain": [
       "4"
      ]
     },
     "execution_count": 20,
     "metadata": {},
     "output_type": "execute_result"
    }
   ],
   "source": [
    "#Which county has the most FATAL crashes?\n",
    "countycrashes['Fatal'].max()"
   ]
  },
  {
   "cell_type": "code",
   "execution_count": 21,
   "id": "9d567fac-dc25-4011-b1e8-a5eaa26ea080",
   "metadata": {},
   "outputs": [
    {
     "data": {
      "text/html": [
       "<div>\n",
       "<style scoped>\n",
       "    .dataframe tbody tr th:only-of-type {\n",
       "        vertical-align: middle;\n",
       "    }\n",
       "\n",
       "    .dataframe tbody tr th {\n",
       "        vertical-align: top;\n",
       "    }\n",
       "\n",
       "    .dataframe thead th {\n",
       "        text-align: right;\n",
       "    }\n",
       "</style>\n",
       "<table border=\"1\" class=\"dataframe\">\n",
       "  <thead>\n",
       "    <tr style=\"text-align: right;\">\n",
       "      <th></th>\n",
       "      <th>County</th>\n",
       "      <th>Fatal</th>\n",
       "      <th>Injury</th>\n",
       "      <th>PDO</th>\n",
       "      <th>Total</th>\n",
       "    </tr>\n",
       "  </thead>\n",
       "  <tbody>\n",
       "    <tr>\n",
       "      <th>11</th>\n",
       "      <td>Shelby</td>\n",
       "      <td>4</td>\n",
       "      <td>63</td>\n",
       "      <td>9</td>\n",
       "      <td>76</td>\n",
       "    </tr>\n",
       "  </tbody>\n",
       "</table>\n",
       "</div>"
      ],
      "text/plain": [
       "    County  Fatal  Injury  PDO  Total\n",
       "11  Shelby      4      63    9     76"
      ]
     },
     "execution_count": 21,
     "metadata": {},
     "output_type": "execute_result"
    }
   ],
   "source": [
    "countycrashes[countycrashes['Fatal']==4]"
   ]
  },
  {
   "cell_type": "code",
   "execution_count": 22,
   "id": "fc172286-9a6d-4fb0-872a-b821c086c7c8",
   "metadata": {},
   "outputs": [],
   "source": [
    "#Could maybe something with just this county over time because Shelby has the most fatalities and the most total\n",
    "shelby=countycrashes[countycrashes['County']=='Shelby']"
   ]
  },
  {
   "cell_type": "code",
   "execution_count": 23,
   "id": "f82401e9-dfbc-463b-8cc5-edcab8d9d40c",
   "metadata": {},
   "outputs": [
    {
     "data": {
      "text/html": [
       "<div>\n",
       "<style scoped>\n",
       "    .dataframe tbody tr th:only-of-type {\n",
       "        vertical-align: middle;\n",
       "    }\n",
       "\n",
       "    .dataframe tbody tr th {\n",
       "        vertical-align: top;\n",
       "    }\n",
       "\n",
       "    .dataframe thead th {\n",
       "        text-align: right;\n",
       "    }\n",
       "</style>\n",
       "<table border=\"1\" class=\"dataframe\">\n",
       "  <thead>\n",
       "    <tr style=\"text-align: right;\">\n",
       "      <th></th>\n",
       "      <th>Year</th>\n",
       "      <th>County</th>\n",
       "      <th>Fatal</th>\n",
       "      <th>Injury</th>\n",
       "      <th>PDO</th>\n",
       "      <th>Total</th>\n",
       "    </tr>\n",
       "  </thead>\n",
       "  <tbody>\n",
       "    <tr>\n",
       "      <th>8</th>\n",
       "      <td>2010</td>\n",
       "      <td>Shelby</td>\n",
       "      <td>2</td>\n",
       "      <td>91</td>\n",
       "      <td>3</td>\n",
       "      <td>96</td>\n",
       "    </tr>\n",
       "    <tr>\n",
       "      <th>14</th>\n",
       "      <td>2011</td>\n",
       "      <td>Shelby</td>\n",
       "      <td>1</td>\n",
       "      <td>85</td>\n",
       "      <td>7</td>\n",
       "      <td>93</td>\n",
       "    </tr>\n",
       "    <tr>\n",
       "      <th>18</th>\n",
       "      <td>2012</td>\n",
       "      <td>Shelby</td>\n",
       "      <td>1</td>\n",
       "      <td>96</td>\n",
       "      <td>11</td>\n",
       "      <td>108</td>\n",
       "    </tr>\n",
       "    <tr>\n",
       "      <th>14</th>\n",
       "      <td>2013</td>\n",
       "      <td>Shelby</td>\n",
       "      <td>0</td>\n",
       "      <td>100</td>\n",
       "      <td>8</td>\n",
       "      <td>108</td>\n",
       "    </tr>\n",
       "    <tr>\n",
       "      <th>10</th>\n",
       "      <td>2014</td>\n",
       "      <td>Shelby</td>\n",
       "      <td>0</td>\n",
       "      <td>88</td>\n",
       "      <td>9</td>\n",
       "      <td>97</td>\n",
       "    </tr>\n",
       "    <tr>\n",
       "      <th>16</th>\n",
       "      <td>2015</td>\n",
       "      <td>Shelby</td>\n",
       "      <td>3</td>\n",
       "      <td>90</td>\n",
       "      <td>2</td>\n",
       "      <td>95</td>\n",
       "    </tr>\n",
       "    <tr>\n",
       "      <th>13</th>\n",
       "      <td>2016</td>\n",
       "      <td>Shelby</td>\n",
       "      <td>2</td>\n",
       "      <td>84</td>\n",
       "      <td>12</td>\n",
       "      <td>98</td>\n",
       "    </tr>\n",
       "    <tr>\n",
       "      <th>17</th>\n",
       "      <td>2017</td>\n",
       "      <td>Shelby</td>\n",
       "      <td>2</td>\n",
       "      <td>89</td>\n",
       "      <td>7</td>\n",
       "      <td>98</td>\n",
       "    </tr>\n",
       "    <tr>\n",
       "      <th>5</th>\n",
       "      <td>2018</td>\n",
       "      <td>Shelby</td>\n",
       "      <td>2</td>\n",
       "      <td>82</td>\n",
       "      <td>8</td>\n",
       "      <td>92</td>\n",
       "    </tr>\n",
       "    <tr>\n",
       "      <th>16</th>\n",
       "      <td>2019</td>\n",
       "      <td>Shelby</td>\n",
       "      <td>0</td>\n",
       "      <td>70</td>\n",
       "      <td>11</td>\n",
       "      <td>81</td>\n",
       "    </tr>\n",
       "    <tr>\n",
       "      <th>11</th>\n",
       "      <td>2020</td>\n",
       "      <td>Shelby</td>\n",
       "      <td>4</td>\n",
       "      <td>63</td>\n",
       "      <td>9</td>\n",
       "      <td>76</td>\n",
       "    </tr>\n",
       "    <tr>\n",
       "      <th>16</th>\n",
       "      <td>2021</td>\n",
       "      <td>Shelby</td>\n",
       "      <td>3</td>\n",
       "      <td>77</td>\n",
       "      <td>5</td>\n",
       "      <td>85</td>\n",
       "    </tr>\n",
       "    <tr>\n",
       "      <th>16</th>\n",
       "      <td>2022</td>\n",
       "      <td>Shelby</td>\n",
       "      <td>2</td>\n",
       "      <td>55</td>\n",
       "      <td>4</td>\n",
       "      <td>61</td>\n",
       "    </tr>\n",
       "    <tr>\n",
       "      <th>19</th>\n",
       "      <td>2023</td>\n",
       "      <td>Shelby</td>\n",
       "      <td>2</td>\n",
       "      <td>66</td>\n",
       "      <td>12</td>\n",
       "      <td>80</td>\n",
       "    </tr>\n",
       "    <tr>\n",
       "      <th>19</th>\n",
       "      <td>2024</td>\n",
       "      <td>Shelby</td>\n",
       "      <td>0</td>\n",
       "      <td>11</td>\n",
       "      <td>1</td>\n",
       "      <td>12</td>\n",
       "    </tr>\n",
       "  </tbody>\n",
       "</table>\n",
       "</div>"
      ],
      "text/plain": [
       "    Year  County  Fatal  Injury  PDO  Total\n",
       "8   2010  Shelby      2      91    3     96\n",
       "14  2011  Shelby      1      85    7     93\n",
       "18  2012  Shelby      1      96   11    108\n",
       "14  2013  Shelby      0     100    8    108\n",
       "10  2014  Shelby      0      88    9     97\n",
       "16  2015  Shelby      3      90    2     95\n",
       "13  2016  Shelby      2      84   12     98\n",
       "17  2017  Shelby      2      89    7     98\n",
       "5   2018  Shelby      2      82    8     92\n",
       "16  2019  Shelby      0      70   11     81\n",
       "11  2020  Shelby      4      63    9     76\n",
       "16  2021  Shelby      3      77    5     85\n",
       "16  2022  Shelby      2      55    4     61\n",
       "19  2023  Shelby      2      66   12     80\n",
       "19  2024  Shelby      0      11    1     12"
      ]
     },
     "execution_count": 23,
     "metadata": {},
     "output_type": "execute_result"
    }
   ],
   "source": [
    "#Need to replace County with Year - going to do that by adding Year column with range and dropping County column\n",
    "shelby.insert(0,'Year',range(2010,2010+len(shelby)))\n",
    "shelby"
   ]
  },
  {
   "cell_type": "code",
   "execution_count": 24,
   "id": "a3c82952-7238-4086-834c-aeacf4bce421",
   "metadata": {},
   "outputs": [],
   "source": [
    "shelby_clean=shelby.drop(columns=['County'])"
   ]
  },
  {
   "cell_type": "code",
   "execution_count": 25,
   "id": "5c4f58e7-921d-4ed4-b36e-bc104c7a7bd4",
   "metadata": {
    "scrolled": true
   },
   "outputs": [
    {
     "data": {
      "text/html": [
       "<div>\n",
       "<style scoped>\n",
       "    .dataframe tbody tr th:only-of-type {\n",
       "        vertical-align: middle;\n",
       "    }\n",
       "\n",
       "    .dataframe tbody tr th {\n",
       "        vertical-align: top;\n",
       "    }\n",
       "\n",
       "    .dataframe thead th {\n",
       "        text-align: right;\n",
       "    }\n",
       "</style>\n",
       "<table border=\"1\" class=\"dataframe\">\n",
       "  <thead>\n",
       "    <tr style=\"text-align: right;\">\n",
       "      <th></th>\n",
       "      <th>Year</th>\n",
       "      <th>Fatal</th>\n",
       "      <th>Injury</th>\n",
       "      <th>PDO</th>\n",
       "      <th>Total</th>\n",
       "    </tr>\n",
       "  </thead>\n",
       "  <tbody>\n",
       "    <tr>\n",
       "      <th>8</th>\n",
       "      <td>2010</td>\n",
       "      <td>2</td>\n",
       "      <td>91</td>\n",
       "      <td>3</td>\n",
       "      <td>96</td>\n",
       "    </tr>\n",
       "    <tr>\n",
       "      <th>14</th>\n",
       "      <td>2011</td>\n",
       "      <td>1</td>\n",
       "      <td>85</td>\n",
       "      <td>7</td>\n",
       "      <td>93</td>\n",
       "    </tr>\n",
       "    <tr>\n",
       "      <th>18</th>\n",
       "      <td>2012</td>\n",
       "      <td>1</td>\n",
       "      <td>96</td>\n",
       "      <td>11</td>\n",
       "      <td>108</td>\n",
       "    </tr>\n",
       "    <tr>\n",
       "      <th>14</th>\n",
       "      <td>2013</td>\n",
       "      <td>0</td>\n",
       "      <td>100</td>\n",
       "      <td>8</td>\n",
       "      <td>108</td>\n",
       "    </tr>\n",
       "    <tr>\n",
       "      <th>10</th>\n",
       "      <td>2014</td>\n",
       "      <td>0</td>\n",
       "      <td>88</td>\n",
       "      <td>9</td>\n",
       "      <td>97</td>\n",
       "    </tr>\n",
       "    <tr>\n",
       "      <th>16</th>\n",
       "      <td>2015</td>\n",
       "      <td>3</td>\n",
       "      <td>90</td>\n",
       "      <td>2</td>\n",
       "      <td>95</td>\n",
       "    </tr>\n",
       "    <tr>\n",
       "      <th>13</th>\n",
       "      <td>2016</td>\n",
       "      <td>2</td>\n",
       "      <td>84</td>\n",
       "      <td>12</td>\n",
       "      <td>98</td>\n",
       "    </tr>\n",
       "    <tr>\n",
       "      <th>17</th>\n",
       "      <td>2017</td>\n",
       "      <td>2</td>\n",
       "      <td>89</td>\n",
       "      <td>7</td>\n",
       "      <td>98</td>\n",
       "    </tr>\n",
       "    <tr>\n",
       "      <th>5</th>\n",
       "      <td>2018</td>\n",
       "      <td>2</td>\n",
       "      <td>82</td>\n",
       "      <td>8</td>\n",
       "      <td>92</td>\n",
       "    </tr>\n",
       "    <tr>\n",
       "      <th>16</th>\n",
       "      <td>2019</td>\n",
       "      <td>0</td>\n",
       "      <td>70</td>\n",
       "      <td>11</td>\n",
       "      <td>81</td>\n",
       "    </tr>\n",
       "    <tr>\n",
       "      <th>11</th>\n",
       "      <td>2020</td>\n",
       "      <td>4</td>\n",
       "      <td>63</td>\n",
       "      <td>9</td>\n",
       "      <td>76</td>\n",
       "    </tr>\n",
       "    <tr>\n",
       "      <th>16</th>\n",
       "      <td>2021</td>\n",
       "      <td>3</td>\n",
       "      <td>77</td>\n",
       "      <td>5</td>\n",
       "      <td>85</td>\n",
       "    </tr>\n",
       "    <tr>\n",
       "      <th>16</th>\n",
       "      <td>2022</td>\n",
       "      <td>2</td>\n",
       "      <td>55</td>\n",
       "      <td>4</td>\n",
       "      <td>61</td>\n",
       "    </tr>\n",
       "    <tr>\n",
       "      <th>19</th>\n",
       "      <td>2023</td>\n",
       "      <td>2</td>\n",
       "      <td>66</td>\n",
       "      <td>12</td>\n",
       "      <td>80</td>\n",
       "    </tr>\n",
       "    <tr>\n",
       "      <th>19</th>\n",
       "      <td>2024</td>\n",
       "      <td>0</td>\n",
       "      <td>11</td>\n",
       "      <td>1</td>\n",
       "      <td>12</td>\n",
       "    </tr>\n",
       "  </tbody>\n",
       "</table>\n",
       "</div>"
      ],
      "text/plain": [
       "    Year  Fatal  Injury  PDO  Total\n",
       "8   2010      2      91    3     96\n",
       "14  2011      1      85    7     93\n",
       "18  2012      1      96   11    108\n",
       "14  2013      0     100    8    108\n",
       "10  2014      0      88    9     97\n",
       "16  2015      3      90    2     95\n",
       "13  2016      2      84   12     98\n",
       "17  2017      2      89    7     98\n",
       "5   2018      2      82    8     92\n",
       "16  2019      0      70   11     81\n",
       "11  2020      4      63    9     76\n",
       "16  2021      3      77    5     85\n",
       "16  2022      2      55    4     61\n",
       "19  2023      2      66   12     80\n",
       "19  2024      0      11    1     12"
      ]
     },
     "execution_count": 25,
     "metadata": {},
     "output_type": "execute_result"
    }
   ],
   "source": [
    "shelby_clean"
   ]
  },
  {
   "cell_type": "code",
   "execution_count": 26,
   "id": "52d2b938-83a6-445b-a173-a985173f036a",
   "metadata": {},
   "outputs": [],
   "source": [
    "shelby_clean.to_csv('shelbycountybikecrashesclean.csv',index=False)"
   ]
  },
  {
   "cell_type": "code",
   "execution_count": 27,
   "id": "cef39c14-6874-43ce-a87c-e1f49ba6049e",
   "metadata": {
    "scrolled": true
   },
   "outputs": [
    {
     "data": {
      "text/html": [
       "<div>\n",
       "<style scoped>\n",
       "    .dataframe tbody tr th:only-of-type {\n",
       "        vertical-align: middle;\n",
       "    }\n",
       "\n",
       "    .dataframe tbody tr th {\n",
       "        vertical-align: top;\n",
       "    }\n",
       "\n",
       "    .dataframe thead th {\n",
       "        text-align: right;\n",
       "    }\n",
       "</style>\n",
       "<table border=\"1\" class=\"dataframe\">\n",
       "  <thead>\n",
       "    <tr style=\"text-align: right;\">\n",
       "      <th></th>\n",
       "      <th>Year</th>\n",
       "      <th>Fatal</th>\n",
       "      <th>Injury</th>\n",
       "      <th>PDO</th>\n",
       "      <th>Total</th>\n",
       "    </tr>\n",
       "  </thead>\n",
       "  <tbody>\n",
       "    <tr>\n",
       "      <th>17</th>\n",
       "      <td>2010</td>\n",
       "      <td>4</td>\n",
       "      <td>343</td>\n",
       "      <td>23</td>\n",
       "      <td>370</td>\n",
       "    </tr>\n",
       "    <tr>\n",
       "      <th>0</th>\n",
       "      <td>2011</td>\n",
       "      <td>6</td>\n",
       "      <td>421</td>\n",
       "      <td>34</td>\n",
       "      <td>461</td>\n",
       "    </tr>\n",
       "    <tr>\n",
       "      <th>1</th>\n",
       "      <td>2012</td>\n",
       "      <td>8</td>\n",
       "      <td>422</td>\n",
       "      <td>38</td>\n",
       "      <td>468</td>\n",
       "    </tr>\n",
       "    <tr>\n",
       "      <th>0</th>\n",
       "      <td>2013</td>\n",
       "      <td>8</td>\n",
       "      <td>411</td>\n",
       "      <td>34</td>\n",
       "      <td>453</td>\n",
       "    </tr>\n",
       "    <tr>\n",
       "      <th>21</th>\n",
       "      <td>2014</td>\n",
       "      <td>6</td>\n",
       "      <td>356</td>\n",
       "      <td>45</td>\n",
       "      <td>407</td>\n",
       "    </tr>\n",
       "    <tr>\n",
       "      <th>0</th>\n",
       "      <td>2015</td>\n",
       "      <td>10</td>\n",
       "      <td>399</td>\n",
       "      <td>47</td>\n",
       "      <td>456</td>\n",
       "    </tr>\n",
       "    <tr>\n",
       "      <th>20</th>\n",
       "      <td>2016</td>\n",
       "      <td>9</td>\n",
       "      <td>359</td>\n",
       "      <td>50</td>\n",
       "      <td>418</td>\n",
       "    </tr>\n",
       "    <tr>\n",
       "      <th>1</th>\n",
       "      <td>2017</td>\n",
       "      <td>8</td>\n",
       "      <td>375</td>\n",
       "      <td>52</td>\n",
       "      <td>435</td>\n",
       "    </tr>\n",
       "    <tr>\n",
       "      <th>15</th>\n",
       "      <td>2018</td>\n",
       "      <td>8</td>\n",
       "      <td>345</td>\n",
       "      <td>25</td>\n",
       "      <td>378</td>\n",
       "    </tr>\n",
       "    <tr>\n",
       "      <th>23</th>\n",
       "      <td>2019</td>\n",
       "      <td>7</td>\n",
       "      <td>344</td>\n",
       "      <td>43</td>\n",
       "      <td>394</td>\n",
       "    </tr>\n",
       "    <tr>\n",
       "      <th>18</th>\n",
       "      <td>2020</td>\n",
       "      <td>12</td>\n",
       "      <td>318</td>\n",
       "      <td>41</td>\n",
       "      <td>371</td>\n",
       "    </tr>\n",
       "    <tr>\n",
       "      <th>25</th>\n",
       "      <td>2021</td>\n",
       "      <td>5</td>\n",
       "      <td>283</td>\n",
       "      <td>33</td>\n",
       "      <td>321</td>\n",
       "    </tr>\n",
       "    <tr>\n",
       "      <th>1</th>\n",
       "      <td>2022</td>\n",
       "      <td>14</td>\n",
       "      <td>324</td>\n",
       "      <td>36</td>\n",
       "      <td>374</td>\n",
       "    </tr>\n",
       "    <tr>\n",
       "      <th>1</th>\n",
       "      <td>2023</td>\n",
       "      <td>11</td>\n",
       "      <td>360</td>\n",
       "      <td>59</td>\n",
       "      <td>430</td>\n",
       "    </tr>\n",
       "    <tr>\n",
       "      <th>24</th>\n",
       "      <td>2024</td>\n",
       "      <td>1</td>\n",
       "      <td>62</td>\n",
       "      <td>10</td>\n",
       "      <td>73</td>\n",
       "    </tr>\n",
       "  </tbody>\n",
       "</table>\n",
       "</div>"
      ],
      "text/plain": [
       "    Year  Fatal  Injury  PDO  Total\n",
       "17  2010      4     343   23    370\n",
       "0   2011      6     421   34    461\n",
       "1   2012      8     422   38    468\n",
       "0   2013      8     411   34    453\n",
       "21  2014      6     356   45    407\n",
       "0   2015     10     399   47    456\n",
       "20  2016      9     359   50    418\n",
       "1   2017      8     375   52    435\n",
       "15  2018      8     345   25    378\n",
       "23  2019      7     344   43    394\n",
       "18  2020     12     318   41    371\n",
       "25  2021      5     283   33    321\n",
       "1   2022     14     324   36    374\n",
       "1   2023     11     360   59    430\n",
       "24  2024      1      62   10     73"
      ]
     },
     "execution_count": 27,
     "metadata": {},
     "output_type": "execute_result"
    }
   ],
   "source": [
    "yeartotals"
   ]
  },
  {
   "cell_type": "code",
   "execution_count": 28,
   "id": "dc22fc46-45f7-4d99-af59-7de99212b629",
   "metadata": {},
   "outputs": [],
   "source": [
    "yeartotals.to_csv('tnbikecrashtotalsclean.csv',index=False)"
   ]
  },
  {
   "cell_type": "code",
   "execution_count": null,
   "id": "99d40e56-eca7-4676-9dd6-786e0389b370",
   "metadata": {},
   "outputs": [],
   "source": []
  }
 ],
 "metadata": {
  "kernelspec": {
   "display_name": "Python 3 (ipykernel)",
   "language": "python",
   "name": "python3"
  },
  "language_info": {
   "codemirror_mode": {
    "name": "ipython",
    "version": 3
   },
   "file_extension": ".py",
   "mimetype": "text/x-python",
   "name": "python",
   "nbconvert_exporter": "python",
   "pygments_lexer": "ipython3",
   "version": "3.11.8"
  }
 },
 "nbformat": 4,
 "nbformat_minor": 5
}
